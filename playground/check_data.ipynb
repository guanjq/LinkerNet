{
 "cells": [
  {
   "cell_type": "code",
   "execution_count": 89,
   "id": "f3136dda-f9fc-4047-bbcf-22cfbeb926cd",
   "metadata": {},
   "outputs": [],
   "source": [
    "import json\n",
    "import torch\n",
    "from rdkit import Chem"
   ]
  },
  {
   "cell_type": "code",
   "execution_count": 2,
   "id": "0ccb46a2-0e11-47a6-aab9-f6562d30dcfc",
   "metadata": {},
   "outputs": [
    {
     "name": "stdout",
     "output_type": "stream",
     "text": [
      "/Users/jiaqiguan/Research/LinkerDesign/DiffPROTAC\n"
     ]
    }
   ],
   "source": [
    "cd .."
   ]
  },
  {
   "cell_type": "markdown",
   "id": "93d66f76-9c00-4ada-a41e-d7705395d68c",
   "metadata": {},
   "source": [
    "# Zinc"
   ]
  },
  {
   "cell_type": "code",
   "execution_count": 3,
   "id": "429979aa-b40b-4e6b-b6d7-817d35282558",
   "metadata": {},
   "outputs": [],
   "source": [
    "with open('data/zinc/molecules_zinc_test_final.json', 'r') as f:\n",
    "    zinc_data = json.load(f)"
   ]
  },
  {
   "cell_type": "code",
   "execution_count": 4,
   "id": "9ae175f2-198c-4329-9f16-1cce51d0a593",
   "metadata": {},
   "outputs": [],
   "source": [
    "data = zinc_data[0]"
   ]
  },
  {
   "cell_type": "code",
   "execution_count": 5,
   "id": "d301cc83-b5d4-4544-a991-f124a5fcbccd",
   "metadata": {},
   "outputs": [
    {
     "name": "stdout",
     "output_type": "stream",
     "text": [
      "graph_in 21\n",
      "graph_out 28\n",
      "node_features_in 21\n",
      "node_features_out 26\n",
      "smiles_out 41\n",
      "smiles_in 45\n",
      "v_to_keep 21\n",
      "exit_points 2\n",
      "abs_dist 2\n",
      "positions_out 26\n",
      "positions_in 21\n"
     ]
    }
   ],
   "source": [
    "for k, v in data.items():\n",
    "    print(k, len(v))"
   ]
  },
  {
   "cell_type": "code",
   "execution_count": 96,
   "id": "e77da323-6a83-417e-af1e-1dd56f845984",
   "metadata": {},
   "outputs": [],
   "source": [
    "zinc_val = torch.load('/Users/jiaqiguan/Downloads/zinc_final_val.pt', map_location='cpu')"
   ]
  },
  {
   "cell_type": "code",
   "execution_count": 97,
   "id": "4ff2bf3f-fc56-42cd-9c49-e1d488980468",
   "metadata": {},
   "outputs": [
    {
     "data": {
      "text/plain": [
       "{'uuid': 0,\n",
       " 'name': 'C[C@H](NC(=O)NCCc1ccccn1)c1ccc(F)cc1Cl',\n",
       " 'positions': tensor([[ 5.9437,  2.3562,  2.4837],\n",
       "         [ 5.0319,  1.4974,  2.0101],\n",
       "         [ 3.9749,  1.9751,  1.2500],\n",
       "         [ 3.0259,  1.0796,  0.7568],\n",
       "         [ 3.1197, -0.3041,  1.0265],\n",
       "         [ 4.2144, -0.7573,  1.7877],\n",
       "         [ 4.4648, -2.4291,  2.1450],\n",
       "         [ 5.1630,  0.1429,  2.2814],\n",
       "         [-3.9706,  2.7553, -1.9517],\n",
       "         [-4.4307,  1.7189, -2.7530],\n",
       "         [-4.2153,  0.4021, -2.3562],\n",
       "         [-3.5454,  0.1560, -1.1584],\n",
       "         [-3.2925, -1.2783, -0.7407],\n",
       "         [-2.8226, -1.4493,  0.7082],\n",
       "         [-3.0783,  1.1611, -0.3726],\n",
       "         [-3.3063,  2.4294, -0.7826],\n",
       "         [ 2.3203, -1.4534, -1.0417],\n",
       "         [ 2.0673, -1.2499,  0.4568],\n",
       "         [ 0.7281, -0.7322,  0.7199],\n",
       "         [-0.3790, -1.5176,  0.5222],\n",
       "         [-0.3642, -2.6410,  0.0410],\n",
       "         [-1.5114, -0.8726,  0.9484]]),\n",
       " 'one_hot': tensor([[0., 0., 0., 1., 0., 0., 0., 0.],\n",
       "         [1., 0., 0., 0., 0., 0., 0., 0.],\n",
       "         [1., 0., 0., 0., 0., 0., 0., 0.],\n",
       "         [1., 0., 0., 0., 0., 0., 0., 0.],\n",
       "         [1., 0., 0., 0., 0., 0., 0., 0.],\n",
       "         [1., 0., 0., 0., 0., 0., 0., 0.],\n",
       "         [0., 0., 0., 0., 0., 1., 0., 0.],\n",
       "         [1., 0., 0., 0., 0., 0., 0., 0.],\n",
       "         [1., 0., 0., 0., 0., 0., 0., 0.],\n",
       "         [1., 0., 0., 0., 0., 0., 0., 0.],\n",
       "         [1., 0., 0., 0., 0., 0., 0., 0.],\n",
       "         [1., 0., 0., 0., 0., 0., 0., 0.],\n",
       "         [1., 0., 0., 0., 0., 0., 0., 0.],\n",
       "         [1., 0., 0., 0., 0., 0., 0., 0.],\n",
       "         [0., 0., 1., 0., 0., 0., 0., 0.],\n",
       "         [1., 0., 0., 0., 0., 0., 0., 0.],\n",
       "         [1., 0., 0., 0., 0., 0., 0., 0.],\n",
       "         [1., 0., 0., 0., 0., 0., 0., 0.],\n",
       "         [0., 0., 1., 0., 0., 0., 0., 0.],\n",
       "         [1., 0., 0., 0., 0., 0., 0., 0.],\n",
       "         [0., 1., 0., 0., 0., 0., 0., 0.],\n",
       "         [0., 0., 1., 0., 0., 0., 0., 0.]]),\n",
       " 'charges': tensor([ 9.,  6.,  6.,  6.,  6.,  6., 17.,  6.,  6.,  6.,  6.,  6.,  6.,  6.,\n",
       "          7.,  6.,  6.,  6.,  7.,  6.,  8.,  7.]),\n",
       " 'anchors': tensor([0., 0., 0., 0., 1., 0., 0., 0., 0., 0., 0., 0., 0., 1., 0., 0., 0., 0.,\n",
       "         0., 0., 0., 0.]),\n",
       " 'fragment_mask': tensor([1., 1., 1., 1., 1., 1., 1., 1., 1., 1., 1., 1., 1., 1., 1., 1., 0., 0.,\n",
       "         0., 0., 0., 0.]),\n",
       " 'linker_mask': tensor([0., 0., 0., 0., 0., 0., 0., 0., 0., 0., 0., 0., 0., 0., 0., 0., 1., 1.,\n",
       "         1., 1., 1., 1.]),\n",
       " 'num_atoms': 22}"
      ]
     },
     "execution_count": 97,
     "metadata": {},
     "output_type": "execute_result"
    }
   ],
   "source": [
    "zinc_val[0]"
   ]
  },
  {
   "cell_type": "markdown",
   "id": "ec2f1b5e-7107-4cae-85f4-a700666cda98",
   "metadata": {},
   "source": [
    "# PROTAC-DB"
   ]
  },
  {
   "cell_type": "code",
   "execution_count": 86,
   "id": "be9281bf-3bcd-4f8c-9e3c-b1add316c380",
   "metadata": {},
   "outputs": [],
   "source": [
    "import pickle\n",
    "import pandas as pd\n",
    "from rdkit import Chem\n",
    "from tqdm.auto import tqdm\n",
    "import utils.visualize as viz\n",
    "import matplotlib.pyplot as plt"
   ]
  },
  {
   "cell_type": "code",
   "execution_count": 7,
   "id": "205005a3-d994-4f20-b54f-96a0e0fd2f45",
   "metadata": {},
   "outputs": [],
   "source": [
    "df = pd.read_csv('data/protac/protac.csv')\n",
    "warhead_df = pd.read_csv('data/protac/warhead.csv')\n",
    "ligase_df = pd.read_csv('data/protac/e3_ligand.csv')\n",
    "linker_df = pd.read_csv('data/protac/linker.csv')"
   ]
  },
  {
   "cell_type": "code",
   "execution_count": 8,
   "id": "c2e6b8c1-15ee-48be-8dae-173d470046ab",
   "metadata": {},
   "outputs": [],
   "source": [
    "# protac_sdf = Chem.SDMolSupplier('data/protac/protac.sdf')"
   ]
  },
  {
   "cell_type": "code",
   "execution_count": 9,
   "id": "4ecfab40-ffb3-4de8-8ed3-092e8d58ed34",
   "metadata": {},
   "outputs": [
    {
     "data": {
      "text/html": [
       "<div>\n",
       "<style scoped>\n",
       "    .dataframe tbody tr th:only-of-type {\n",
       "        vertical-align: middle;\n",
       "    }\n",
       "\n",
       "    .dataframe tbody tr th {\n",
       "        vertical-align: top;\n",
       "    }\n",
       "\n",
       "    .dataframe thead th {\n",
       "        text-align: right;\n",
       "    }\n",
       "</style>\n",
       "<table border=\"1\" class=\"dataframe\">\n",
       "  <thead>\n",
       "    <tr style=\"text-align: right;\">\n",
       "      <th></th>\n",
       "      <th>Compound ID</th>\n",
       "      <th>Uniprot</th>\n",
       "      <th>Target</th>\n",
       "      <th>E3 ligase</th>\n",
       "      <th>PDB</th>\n",
       "      <th>Name</th>\n",
       "      <th>Smiles</th>\n",
       "      <th>DC50 (nM)</th>\n",
       "      <th>Dmax (%)</th>\n",
       "      <th>Assay (DC50/Dmax)</th>\n",
       "      <th>...</th>\n",
       "      <th>XLogP3</th>\n",
       "      <th>Heavy Atom Count</th>\n",
       "      <th>Ring Count</th>\n",
       "      <th>Hydrogen Bond Acceptor Count</th>\n",
       "      <th>Hydrogen Bond Donor Count</th>\n",
       "      <th>Rotatable Bond Count</th>\n",
       "      <th>Topological Polar Surface Area</th>\n",
       "      <th>Molecular Formula</th>\n",
       "      <th>InChI</th>\n",
       "      <th>InChI Key</th>\n",
       "    </tr>\n",
       "  </thead>\n",
       "  <tbody>\n",
       "    <tr>\n",
       "      <th>0</th>\n",
       "      <td>1</td>\n",
       "      <td>Q9NPI1</td>\n",
       "      <td>BRD7</td>\n",
       "      <td>VHL</td>\n",
       "      <td>NaN</td>\n",
       "      <td>NaN</td>\n",
       "      <td>COC1=CC(C2=CN(C)C(=O)C3=CN=CC=C23)=CC(OC)=C1CN...</td>\n",
       "      <td>NaN</td>\n",
       "      <td>NaN</td>\n",
       "      <td>NaN</td>\n",
       "      <td>...</td>\n",
       "      <td>3.03</td>\n",
       "      <td>68</td>\n",
       "      <td>7</td>\n",
       "      <td>15</td>\n",
       "      <td>3</td>\n",
       "      <td>19</td>\n",
       "      <td>189.92</td>\n",
       "      <td>C50H64N8O9S</td>\n",
       "      <td>InChI=1S/C50H64N8O9S/c1-32-45(68-31-53-32)34-1...</td>\n",
       "      <td>RPMQBLMPGMFXLD-PDUNVWSESA-N</td>\n",
       "    </tr>\n",
       "    <tr>\n",
       "      <th>1</th>\n",
       "      <td>1</td>\n",
       "      <td>Q9H8M2</td>\n",
       "      <td>BRD9</td>\n",
       "      <td>VHL</td>\n",
       "      <td>NaN</td>\n",
       "      <td>NaN</td>\n",
       "      <td>COC1=CC(C2=CN(C)C(=O)C3=CN=CC=C23)=CC(OC)=C1CN...</td>\n",
       "      <td>NaN</td>\n",
       "      <td>NaN</td>\n",
       "      <td>NaN</td>\n",
       "      <td>...</td>\n",
       "      <td>3.03</td>\n",
       "      <td>68</td>\n",
       "      <td>7</td>\n",
       "      <td>15</td>\n",
       "      <td>3</td>\n",
       "      <td>19</td>\n",
       "      <td>189.92</td>\n",
       "      <td>C50H64N8O9S</td>\n",
       "      <td>InChI=1S/C50H64N8O9S/c1-32-45(68-31-53-32)34-1...</td>\n",
       "      <td>RPMQBLMPGMFXLD-PDUNVWSESA-N</td>\n",
       "    </tr>\n",
       "    <tr>\n",
       "      <th>2</th>\n",
       "      <td>2</td>\n",
       "      <td>Q9NPI1</td>\n",
       "      <td>BRD7</td>\n",
       "      <td>VHL</td>\n",
       "      <td>NaN</td>\n",
       "      <td>NaN</td>\n",
       "      <td>COC1=CC(C2=CN(C)C(=O)C3=CN=CC=C23)=CC(OC)=C1CN...</td>\n",
       "      <td>NaN</td>\n",
       "      <td>NaN</td>\n",
       "      <td>NaN</td>\n",
       "      <td>...</td>\n",
       "      <td>2.74</td>\n",
       "      <td>74</td>\n",
       "      <td>7</td>\n",
       "      <td>17</td>\n",
       "      <td>3</td>\n",
       "      <td>25</td>\n",
       "      <td>208.38</td>\n",
       "      <td>C54H72N8O11S</td>\n",
       "      <td>InChI=1S/C54H72N8O11S/c1-36-49(74-35-57-36)38-...</td>\n",
       "      <td>NGWWVKZONFCNQP-SHPBXJAASA-N</td>\n",
       "    </tr>\n",
       "    <tr>\n",
       "      <th>3</th>\n",
       "      <td>2</td>\n",
       "      <td>Q9H8M2</td>\n",
       "      <td>BRD9</td>\n",
       "      <td>VHL</td>\n",
       "      <td>NaN</td>\n",
       "      <td>NaN</td>\n",
       "      <td>COC1=CC(C2=CN(C)C(=O)C3=CN=CC=C23)=CC(OC)=C1CN...</td>\n",
       "      <td>NaN</td>\n",
       "      <td>NaN</td>\n",
       "      <td>NaN</td>\n",
       "      <td>...</td>\n",
       "      <td>2.74</td>\n",
       "      <td>74</td>\n",
       "      <td>7</td>\n",
       "      <td>17</td>\n",
       "      <td>3</td>\n",
       "      <td>25</td>\n",
       "      <td>208.38</td>\n",
       "      <td>C54H72N8O11S</td>\n",
       "      <td>InChI=1S/C54H72N8O11S/c1-36-49(74-35-57-36)38-...</td>\n",
       "      <td>NGWWVKZONFCNQP-SHPBXJAASA-N</td>\n",
       "    </tr>\n",
       "    <tr>\n",
       "      <th>4</th>\n",
       "      <td>3</td>\n",
       "      <td>Q9H8M2</td>\n",
       "      <td>BRD9</td>\n",
       "      <td>CRBN</td>\n",
       "      <td>NaN</td>\n",
       "      <td>NaN</td>\n",
       "      <td>COC1=CC(C2=CN(C)C(=O)C3=CN=CC=C23)=CC(OC)=C1CN...</td>\n",
       "      <td>NaN</td>\n",
       "      <td>NaN</td>\n",
       "      <td>NaN</td>\n",
       "      <td>...</td>\n",
       "      <td>0.70</td>\n",
       "      <td>61</td>\n",
       "      <td>7</td>\n",
       "      <td>15</td>\n",
       "      <td>3</td>\n",
       "      <td>18</td>\n",
       "      <td>202.97</td>\n",
       "      <td>C43H50N8O10</td>\n",
       "      <td>InChI=1S/C43H50N8O10/c1-48-24-31(28-9-10-44-23...</td>\n",
       "      <td>RMBNUDOJPQLHMV-UHFFFAOYSA-N</td>\n",
       "    </tr>\n",
       "  </tbody>\n",
       "</table>\n",
       "<p>5 rows × 89 columns</p>\n",
       "</div>"
      ],
      "text/plain": [
       "   Compound ID Uniprot Target E3 ligase  PDB Name  \\\n",
       "0            1  Q9NPI1   BRD7       VHL  NaN  NaN   \n",
       "1            1  Q9H8M2   BRD9       VHL  NaN  NaN   \n",
       "2            2  Q9NPI1   BRD7       VHL  NaN  NaN   \n",
       "3            2  Q9H8M2   BRD9       VHL  NaN  NaN   \n",
       "4            3  Q9H8M2   BRD9      CRBN  NaN  NaN   \n",
       "\n",
       "                                              Smiles DC50 (nM) Dmax (%)  \\\n",
       "0  COC1=CC(C2=CN(C)C(=O)C3=CN=CC=C23)=CC(OC)=C1CN...       NaN      NaN   \n",
       "1  COC1=CC(C2=CN(C)C(=O)C3=CN=CC=C23)=CC(OC)=C1CN...       NaN      NaN   \n",
       "2  COC1=CC(C2=CN(C)C(=O)C3=CN=CC=C23)=CC(OC)=C1CN...       NaN      NaN   \n",
       "3  COC1=CC(C2=CN(C)C(=O)C3=CN=CC=C23)=CC(OC)=C1CN...       NaN      NaN   \n",
       "4  COC1=CC(C2=CN(C)C(=O)C3=CN=CC=C23)=CC(OC)=C1CN...       NaN      NaN   \n",
       "\n",
       "  Assay (DC50/Dmax)  ... XLogP3 Heavy Atom Count Ring Count  \\\n",
       "0               NaN  ...   3.03               68          7   \n",
       "1               NaN  ...   3.03               68          7   \n",
       "2               NaN  ...   2.74               74          7   \n",
       "3               NaN  ...   2.74               74          7   \n",
       "4               NaN  ...   0.70               61          7   \n",
       "\n",
       "  Hydrogen Bond Acceptor Count Hydrogen Bond Donor Count Rotatable Bond Count  \\\n",
       "0                           15                         3                   19   \n",
       "1                           15                         3                   19   \n",
       "2                           17                         3                   25   \n",
       "3                           17                         3                   25   \n",
       "4                           15                         3                   18   \n",
       "\n",
       "  Topological Polar Surface Area Molecular Formula  \\\n",
       "0                         189.92       C50H64N8O9S   \n",
       "1                         189.92       C50H64N8O9S   \n",
       "2                         208.38      C54H72N8O11S   \n",
       "3                         208.38      C54H72N8O11S   \n",
       "4                         202.97       C43H50N8O10   \n",
       "\n",
       "                                               InChI  \\\n",
       "0  InChI=1S/C50H64N8O9S/c1-32-45(68-31-53-32)34-1...   \n",
       "1  InChI=1S/C50H64N8O9S/c1-32-45(68-31-53-32)34-1...   \n",
       "2  InChI=1S/C54H72N8O11S/c1-36-49(74-35-57-36)38-...   \n",
       "3  InChI=1S/C54H72N8O11S/c1-36-49(74-35-57-36)38-...   \n",
       "4  InChI=1S/C43H50N8O10/c1-48-24-31(28-9-10-44-23...   \n",
       "\n",
       "                     InChI Key  \n",
       "0  RPMQBLMPGMFXLD-PDUNVWSESA-N  \n",
       "1  RPMQBLMPGMFXLD-PDUNVWSESA-N  \n",
       "2  NGWWVKZONFCNQP-SHPBXJAASA-N  \n",
       "3  NGWWVKZONFCNQP-SHPBXJAASA-N  \n",
       "4  RMBNUDOJPQLHMV-UHFFFAOYSA-N  \n",
       "\n",
       "[5 rows x 89 columns]"
      ]
     },
     "execution_count": 9,
     "metadata": {},
     "output_type": "execute_result"
    }
   ],
   "source": [
    "df.head()"
   ]
  },
  {
   "cell_type": "code",
   "execution_count": 82,
   "id": "c593c6fc-9c45-497a-a668-002cc59a188b",
   "metadata": {
    "tags": []
   },
   "outputs": [],
   "source": [
    "def get_match_from_possible_list(mol, possible_smiles):\n",
    "    match_smiles, match = None, None\n",
    "    num_match_atoms = 0\n",
    "    for smiles in possible_smiles:\n",
    "        m = mol.GetSubstructMatch(Chem.MolFromSmiles(smiles))\n",
    "        if len(m) > num_match_atoms:\n",
    "            match_smiles, match, num_match_atoms = smiles, m, len(m)\n",
    "            \n",
    "    return match_smiles, match\n",
    "\n",
    "\n",
    "def process_protac_db(df, warhead_df, ligase_df, linker_df, verbose=False):\n",
    "    all_smiles = []\n",
    "    all_index = []\n",
    "    fail_cases = {'no_match': [], 'overlap': [], 'no_linker': [], 'discon_linker': []}\n",
    "    for i in tqdm(df['Compound ID'].unique()):\n",
    "        index = df[df['Compound ID'] == i].iloc[0]\n",
    "        protac_smiles = index['Smiles']\n",
    "        protac_mol = Chem.MolFromSmiles(protac_smiles)\n",
    "\n",
    "        warhead_name, ligase_name = index['Target'], index['E3 ligase']\n",
    "        possible_target_smiles = warhead_df[warhead_df['Target'] == warhead_name].Smiles.tolist()\n",
    "        possible_ligase_smiles = ligase_df[ligase_df['Target'] == ligase_name].Smiles.tolist()\n",
    "\n",
    "        warhead_smiles, warhead_match = get_match_from_possible_list(protac_mol, possible_target_smiles)\n",
    "        ligase_smiles, ligase_match = get_match_from_possible_list(protac_mol, possible_ligase_smiles)\n",
    "        if warhead_match is None or ligase_match is None:\n",
    "            if verbose:\n",
    "                print(f'Skip {i}! Not found matching warhead or ligase')\n",
    "            fail_cases['no_match'].append(i)\n",
    "            continue\n",
    "\n",
    "        frags_match = warhead_match + ligase_match\n",
    "        if len(set(warhead_match).intersection(set(ligase_match))) != 0:\n",
    "            if verbose:\n",
    "                print(f'Skip {i}! Warhead and ligase has overlap')\n",
    "            fail_cases['overlap'].append(i)\n",
    "            continue\n",
    "\n",
    "        linker_atoms = tuple(set(list(range(protac_mol.GetNumAtoms()))) - set(frags_match))\n",
    "        if len(linker_atoms) == 0:\n",
    "            if verbose:\n",
    "                print(f'Skip {i}! No linker')\n",
    "            fail_cases['no_linker'].append(i)\n",
    "            continue\n",
    "\n",
    "\n",
    "        linker_smiles = Chem.MolFragmentToSmiles(protac_mol, linker_atoms)\n",
    "        if '.' in linker_smiles or Chem.MolFromSmiles(linker_smiles) is None:\n",
    "            if verbose:\n",
    "                print(f'Skip {i}! Disconnected linker')\n",
    "            fail_cases['discon_linker'].append(i)\n",
    "            continue\n",
    "        # assert linker_smiles in linker_df.Smiles.tolist(), (i, linker_smiles)\n",
    "\n",
    "        ## smiles, linker smiles, warhead smiles, ligase smiles\n",
    "        all_smiles.append([protac_smiles, linker_smiles, warhead_smiles, ligase_smiles])\n",
    "        all_index.append({\n",
    "            'smi_protac': protac_smiles,\n",
    "            'smi_linker': linker_smiles,\n",
    "            'smi_warhead': warhead_smiles,\n",
    "            'smi_ligase': ligase_smiles,\n",
    "            'atom_indices_warhead': warhead_match,\n",
    "            'atom_indices_ligase': ligase_match,\n",
    "            'atom_indices_linker': linker_atoms,\n",
    "        })\n",
    "    print('Num fails: ', [f'{k}: {len(v)}' for k, v in fail_cases.items()])\n",
    "    print('Success: ', len(all_smiles))\n",
    "    return all_smiles, all_index, fail_cases"
   ]
  },
  {
   "cell_type": "code",
   "execution_count": 84,
   "id": "5fb87d9a-3fac-452b-9d13-11d8ef628833",
   "metadata": {
    "tags": []
   },
   "outputs": [
    {
     "data": {
      "application/vnd.jupyter.widget-view+json": {
       "model_id": "eb944b236ad9452696decda6c459a07d",
       "version_major": 2,
       "version_minor": 0
      },
      "text/plain": [
       "  0%|          | 0/3270 [00:00<?, ?it/s]"
      ]
     },
     "metadata": {},
     "output_type": "display_data"
    },
    {
     "name": "stderr",
     "output_type": "stream",
     "text": [
      "RDKit ERROR: [23:56:02] non-ring atom 0 marked aromatic\n",
      "[23:56:02] non-ring atom 0 marked aromatic\n",
      "RDKit ERROR: [23:56:02] non-ring atom 0 marked aromatic\n",
      "[23:56:02] non-ring atom 0 marked aromatic\n",
      "RDKit ERROR: [23:56:02] non-ring atom 0 marked aromatic\n",
      "[23:56:02] non-ring atom 0 marked aromatic\n",
      "RDKit ERROR: [23:56:02] non-ring atom 0 marked aromatic\n",
      "[23:56:02] non-ring atom 0 marked aromatic\n",
      "RDKit ERROR: [23:56:04] non-ring atom 12 marked aromatic\n",
      "[23:56:04] non-ring atom 12 marked aromatic\n"
     ]
    },
    {
     "name": "stdout",
     "output_type": "stream",
     "text": [
      "Num fails:  ['no_match: 1744', 'overlap: 25', 'no_linker: 4', 'discon_linker: 358']\n",
      "Success:  1139\n"
     ]
    }
   ],
   "source": [
    "all_smiles, all_index, fail_cases = process_protac_db(df, warhead_df, ligase_df, linker_df)"
   ]
  },
  {
   "cell_type": "code",
   "execution_count": 79,
   "id": "2620b302-c38d-4288-8a7f-2ad5a551c989",
   "metadata": {},
   "outputs": [],
   "source": [
    "with open('data/protac/smi_protac.txt', 'w') as f:\n",
    "    for line in all_smiles:\n",
    "        f.write(\"%s %s %s %s\\n\" % (line[0], line[1], line[2], line[3]))"
   ]
  },
  {
   "cell_type": "code",
   "execution_count": 87,
   "id": "f83f982f-2ded-4f7b-a6d3-e99b356a28ab",
   "metadata": {},
   "outputs": [],
   "source": [
    "with open('data/protac/index.pkl', 'wb') as f:\n",
    "    pickle.dump(all_index, f)"
   ]
  },
  {
   "cell_type": "code",
   "execution_count": 70,
   "id": "e27e425e-2059-421c-b5e5-edec5a4394ed",
   "metadata": {},
   "outputs": [],
   "source": [
    "protac_smiles, linker_smiles, warhead_smiles, ligase_smiles = zip(*all_smiles)"
   ]
  },
  {
   "cell_type": "code",
   "execution_count": 71,
   "id": "48941bd0-c25e-4f0f-9a69-035f5b06aaad",
   "metadata": {},
   "outputs": [
    {
     "data": {
      "image/png": "[encoded data removed]",
      "text/plain": [
       "<Figure size 432x288 with 1 Axes>"
      ]
     },
     "metadata": {
      "needs_background": "light"
     },
     "output_type": "display_data"
    }
   ],
   "source": [
    "plt.hist([Chem.MolFromSmiles(s).GetNumAtoms() for s in protac_smiles])\n",
    "plt.title('Num atoms of PROTAC')\n",
    "plt.show()"
   ]
  },
  {
   "cell_type": "code",
   "execution_count": 72,
   "id": "7d11dd7e-4005-442b-819b-fbc18b2c6f17",
   "metadata": {},
   "outputs": [
    {
     "data": {
      "image/png": "[encoded data removed]",
      "text/plain": [
       "<Figure size 432x288 with 1 Axes>"
      ]
     },
     "metadata": {
      "needs_background": "light"
     },
     "output_type": "display_data"
    }
   ],
   "source": [
    "plt.hist([Chem.MolFromSmiles(s).GetNumAtoms() for s in linker_smiles])\n",
    "plt.title('Num atoms of linker')\n",
    "plt.show()"
   ]
  },
  {
   "cell_type": "code",
   "execution_count": 74,
   "id": "f2817ddd-6fb8-4e2f-8b26-f35d9e4600f2",
   "metadata": {},
   "outputs": [
    {
     "name": "stdout",
     "output_type": "stream",
     "text": [
      "Num unique warhead: 184 / 1139\n",
      "Num unique ligase : 33 / 1139\n"
     ]
    }
   ],
   "source": [
    "print(f'Num unique warhead: {len(set(warhead_smiles))} / {len(warhead_smiles)}')\n",
    "print(f'Num unique ligase : {len(set(ligase_smiles))} / {len(ligase_smiles)}')"
   ]
  },
  {
   "cell_type": "code",
   "execution_count": null,
   "id": "a1394740-dc52-4b15-8c18-c552ac4e1d13",
   "metadata": {},
   "outputs": [],
   "source": []
  }
 ],
 "metadata": {
  "kernelspec": {
   "display_name": "molopt",
   "language": "python",
   "name": "molopt"
  },
  "language_info": {
   "codemirror_mode": {
    "name": "ipython",
    "version": 3
   },
   "file_extension": ".py",
   "mimetype": "text/x-python",
   "name": "python",
   "nbconvert_exporter": "python",
   "pygments_lexer": "ipython3",
   "version": "3.7.11"
  }
 },
 "nbformat": 4,
 "nbformat_minor": 5
}
